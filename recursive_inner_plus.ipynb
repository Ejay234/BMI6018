{
 "cells": [
  {
   "cell_type": "code",
   "execution_count": 2,
   "id": "97fbdaf1-46df-4142-8e47-ff69549108aa",
   "metadata": {},
   "outputs": [],
   "source": [
    "# Ejay Aguirre\n",
    "# September 29, 2024"
   ]
  },
  {
   "cell_type": "code",
   "execution_count": 3,
   "id": "82518702-7da2-4ebe-b024-0ebb88a71a94",
   "metadata": {},
   "outputs": [],
   "source": [
    "# Beign Program "
   ]
  },
  {
   "cell_type": "code",
   "execution_count": 4,
   "id": "83ae50e5-cd3c-411f-a029-b15d9dbb7700",
   "metadata": {},
   "outputs": [],
   "source": [
    "def innermost(input_list):\n",
    "    # Base Case: if input_list does not contain a nested list.\n",
    "    if not any(isinstance(i, list) for i in input_list):\n",
    "        return input_list\n",
    "    # Recursive Case: return the nested list found and call function to continue until base case.\n",
    "    else:\n",
    "        for i in input_list:\n",
    "            if isinstance(i, list):\n",
    "                return innermost(i)\n",
    "            \n",
    "def add_one(input_list):\n",
    "    # Finds the intermost list using the previous funciton\n",
    "    inner_list = innermost(input_list)\n",
    "    # Creates a new list adding 1 to each value\n",
    "    new_list = list()\n",
    "    for i in inner_list:\n",
    "        new_list.append(i+1)\n",
    "        \n",
    "    return new_list"
   ]
  },
  {
   "cell_type": "code",
   "execution_count": 5,
   "id": "5b0db1f4-229c-4998-ba55-74e412142d07",
   "metadata": {},
   "outputs": [
    {
     "name": "stdout",
     "output_type": "stream",
     "text": [
      "[9, 10]\n"
     ]
    }
   ],
   "source": [
    "print(add_one([[1,2,3,4,[5,6,7,[8,9]]]]))"
   ]
  },
  {
   "cell_type": "code",
   "execution_count": 6,
   "id": "e7165c74-319a-4ddb-a51a-99c3d467fc2f",
   "metadata": {},
   "outputs": [],
   "source": [
    "# End Program"
   ]
  },
  {
   "cell_type": "code",
   "execution_count": null,
   "id": "77552b98-21f0-4174-b1be-41a4744364dd",
   "metadata": {},
   "outputs": [],
   "source": []
  }
 ],
 "metadata": {
  "kernelspec": {
   "display_name": "Python 3 (ipykernel)",
   "language": "python",
   "name": "python3"
  },
  "language_info": {
   "codemirror_mode": {
    "name": "ipython",
    "version": 3
   },
   "file_extension": ".py",
   "mimetype": "text/x-python",
   "name": "python",
   "nbconvert_exporter": "python",
   "pygments_lexer": "ipython3",
   "version": "3.9.13"
  }
 },
 "nbformat": 4,
 "nbformat_minor": 5
}
