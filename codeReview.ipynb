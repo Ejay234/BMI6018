{
 "cells": [
  {
   "cell_type": "code",
   "execution_count": 40,
   "id": "8b9480b4-ed17-4173-a13f-2b3a66be1539",
   "metadata": {},
   "outputs": [],
   "source": [
    "# Ejay Aguirre\n",
    "# 11.11/2024\n",
    "\n",
    "# This file is intentend for the assingment, Code Review.\n",
    "# It provides solutions to Questions 4 & 5 from Quiz: OOP."
   ]
  },
  {
   "cell_type": "code",
   "execution_count": 41,
   "id": "15272286-77f6-4f45-9911-5fe777d7ff4d",
   "metadata": {},
   "outputs": [],
   "source": [
    "# Question 4:\n",
    "# What is inheritance\n",
    "\n",
    "# 1. A property of OOP that results in functions descending from other functions.\n",
    "# 2. The property of OOP that allows child classes to be created with parameters \n",
    "# and methods from parent (super) class.\n",
    "# 3. A property of OOP that results from getting data from one data object and passing it to another.\n"
   ]
  },
  {
   "cell_type": "code",
   "execution_count": 42,
   "id": "41e58717-8bfd-48e6-9ec2-6226e0f0135b",
   "metadata": {},
   "outputs": [
    {
     "name": "stdout",
     "output_type": "stream",
     "text": [
      "Brand: Honda\n",
      "Brand: Honda; Color: Civc; Year: 2023;\n",
      "Brand: Toyota\n",
      "Brand: Toyota; Color: Camery; Year: 2024; Usage: False\n"
     ]
    }
   ],
   "source": [
    "# Example of inheritance\n",
    "\n",
    "# Parent Class: Vehicle\n",
    "class Vehicle:\n",
    "    def __init__(self, brand, color, year):\n",
    "        self.brand = brand\n",
    "        self.color = color\n",
    "        self.year = year\n",
    "    \n",
    "    # Functions to help know if it works, getting the data info\n",
    "    def brandString(self):\n",
    "        print(f\"Brand: {self.brand}\")\n",
    "        \n",
    "    def infoString(self):\n",
    "        return f\"Brand: {self.brand}; Color: {self.color}; Year: {self.year};\"\n",
    "        \n",
    "# Child class: Car subclass\n",
    "class Car(Vehicle):\n",
    "    def __init__(self, brand, model, year, used):\n",
    "        # using the function super() allows the class to INHERIT properties from its parent.\n",
    "        super().__init__(brand, model, year)\n",
    "        self.used = used\n",
    "        \n",
    "    # inherinting the method, using the function super()\n",
    "    def infoString(self):\n",
    "        return f\"{super().infoString()} Usage: {self.used}\"\n",
    "        \n",
    "# Check if it works\n",
    "# Parent Class\n",
    "myCar = Vehicle(\"Honda\", \"Civc\", 2023)\n",
    "myCar.brandString()\n",
    "print(myCar.infoString())\n",
    "\n",
    "# Child Class\n",
    "myCar2 = Car(\"Toyota\", \"Camery\", 2024, False)\n",
    "# Child Class - inheriting attributes\n",
    "myCar2.brandString()\n",
    "# Child Class - inheriting a method\n",
    "print(myCar2.infoString())\n",
    "\n",
    "# The answer would be number 2. The property of OOP that allows child classes \n",
    "# to be created with parameters and methods from parent (super) class."
   ]
  },
  {
   "cell_type": "code",
   "execution_count": 43,
   "id": "907934af-0872-4b2e-b870-e802b4a92121",
   "metadata": {},
   "outputs": [],
   "source": [
    "# Question 5:\n",
    "\n",
    "# What is worng with this class definition?\n",
    "# Group of choices\n",
    "# 1. Nothing is wrong\n",
    "# 2. the fill method should be private because private methods are better\n",
    "# 3. __init__ does not have a defined texture argument"
   ]
  },
  {
   "cell_type": "code",
   "execution_count": 44,
   "id": "4516a54a-5871-4b13-89e6-44f31acd5659",
   "metadata": {},
   "outputs": [],
   "source": [
    "class crate(object):\n",
    "   def __init__(self, weight, dimensions, fill_state):\n",
    "      self.weight = weight\n",
    "      self.dimensions = dimensions\n",
    "      self.fill_state = fill_state\n",
    "      self.texture = texture\n",
    "   def fill(self):\n",
    "      if self.fill_state==0:\n",
    "         self.fill_state=1\n",
    "      else:\n",
    "         return ('No room!')"
   ]
  },
  {
   "cell_type": "code",
   "execution_count": 45,
   "id": "19f9fcab-2f6b-4766-8726-8ab2e74837de",
   "metadata": {},
   "outputs": [
    {
     "ename": "TypeError",
     "evalue": "__init__() got an unexpected keyword argument 'texture'",
     "output_type": "error",
     "traceback": [
      "\u001b[0;31m---------------------------------------------------------------------------\u001b[0m",
      "\u001b[0;31mTypeError\u001b[0m                                 Traceback (most recent call last)",
      "Input \u001b[0;32mIn [45]\u001b[0m, in \u001b[0;36m<cell line: 1>\u001b[0;34m()\u001b[0m\n\u001b[0;32m----> 1\u001b[0m \u001b[43mcrate\u001b[49m\u001b[43m(\u001b[49m\u001b[43mweight\u001b[49m\u001b[38;5;241;43m=\u001b[39;49m\u001b[38;5;241;43m100\u001b[39;49m\u001b[43m,\u001b[49m\u001b[43m \u001b[49m\u001b[43mdimensions\u001b[49m\u001b[38;5;241;43m=\u001b[39;49m\u001b[38;5;241;43m10\u001b[39;49m\u001b[38;5;241;43m*\u001b[39;49m\u001b[38;5;241;43m10\u001b[39;49m\u001b[43m,\u001b[49m\u001b[43m \u001b[49m\u001b[43mfill_state\u001b[49m\u001b[38;5;241;43m=\u001b[39;49m\u001b[38;5;124;43m\"\u001b[39;49m\u001b[38;5;124;43msolid-color\u001b[39;49m\u001b[38;5;124;43m\"\u001b[39;49m\u001b[43m,\u001b[49m\u001b[43m \u001b[49m\u001b[43mtexture\u001b[49m\u001b[38;5;241;43m=\u001b[39;49m\u001b[38;5;124;43m\"\u001b[39;49m\u001b[38;5;124;43mgranite\u001b[39;49m\u001b[38;5;124;43m\"\u001b[39;49m\u001b[43m)\u001b[49m\n",
      "\u001b[0;31mTypeError\u001b[0m: __init__() got an unexpected keyword argument 'texture'"
     ]
    }
   ],
   "source": [
    "crate(weight=100, dimensions=10*10, fill_state=\"solid-color\", texture=\"granite\")"
   ]
  },
  {
   "cell_type": "code",
   "execution_count": 48,
   "id": "e143a3d2-0afb-4d08-ba22-2ac44d40a18f",
   "metadata": {},
   "outputs": [],
   "source": [
    "# Solution\n",
    "class crate(object):\n",
    "   def __init__(self, weight, dimensions, fill_state, texture):\n",
    "      self.weight = weight\n",
    "      self.dimensions = dimensions\n",
    "      self.fill_state = fill_state\n",
    "        # Since this was given AND the multiple choices does say anything about removing it,\n",
    "        # Texture should be an argument\n",
    "      self.texture = texture\n",
    "   def fill(self):\n",
    "      if self.fill_state==0:\n",
    "         self.fill_state=1\n",
    "      else:\n",
    "         return ('No room!')"
   ]
  },
  {
   "cell_type": "code",
   "execution_count": 49,
   "id": "3d801035-cd30-49fd-aeb3-3887452eacd7",
   "metadata": {},
   "outputs": [
    {
     "name": "stdout",
     "output_type": "stream",
     "text": [
      "<__main__.crate object at 0x7fa4b77ad4f0>\n"
     ]
    },
    {
     "data": {
      "text/plain": [
       "'No room!'"
      ]
     },
     "execution_count": 49,
     "metadata": {},
     "output_type": "execute_result"
    }
   ],
   "source": [
    "crate1 = crate(weight=100, dimensions=10*10, fill_state=1, texture=\"granite\")\n",
    "print(crate1)\n",
    "crate1.fill() # check if it works with no errors\n",
    "\n",
    "# Answer is __init__ does not have a defined texture argument."
   ]
  },
  {
   "cell_type": "code",
   "execution_count": null,
   "id": "a89b8d28-e6f2-4a4f-8133-3e1e0e85859e",
   "metadata": {},
   "outputs": [],
   "source": []
  }
 ],
 "metadata": {
  "kernelspec": {
   "display_name": "Python 3 (ipykernel)",
   "language": "python",
   "name": "python3"
  },
  "language_info": {
   "codemirror_mode": {
    "name": "ipython",
    "version": 3
   },
   "file_extension": ".py",
   "mimetype": "text/x-python",
   "name": "python",
   "nbconvert_exporter": "python",
   "pygments_lexer": "ipython3",
   "version": "3.9.13"
  }
 },
 "nbformat": 4,
 "nbformat_minor": 5
}
