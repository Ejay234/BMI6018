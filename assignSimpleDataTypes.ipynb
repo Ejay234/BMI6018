{
 "cells": [
  {
   "cell_type": "code",
   "execution_count": 2,
   "id": "0c75a9f9-0e5d-4f3b-9035-fd96af842c5d",
   "metadata": {},
   "outputs": [],
   "source": [
    "x = True + True - False"
   ]
  },
  {
   "cell_type": "code",
   "execution_count": 3,
   "id": "1d62ddba-39a6-4109-88ea-f7dc6fb241db",
   "metadata": {},
   "outputs": [
    {
     "name": "stdout",
     "output_type": "stream",
     "text": [
      "2\n"
     ]
    }
   ],
   "source": [
    "print(x)"
   ]
  },
  {
   "cell_type": "code",
   "execution_count": 7,
   "id": "e22e5bf4-57ce-45cd-901d-f4cf09508e5f",
   "metadata": {},
   "outputs": [],
   "source": [
    "logical_tracker = True\n",
    "logical_tracker = logical_tracker & logical_tracker\n",
    "logical_tracker = logical_tracker | (logical_tracker - logical_tracker)\n"
   ]
  },
  {
   "cell_type": "code",
   "execution_count": 8,
   "id": "08698a14-9960-4aa0-99a7-65fd59243ce3",
   "metadata": {},
   "outputs": [
    {
     "name": "stdout",
     "output_type": "stream",
     "text": [
      "1\n"
     ]
    }
   ],
   "source": [
    "print(logical_tracker)"
   ]
  },
  {
   "cell_type": "code",
   "execution_count": 13,
   "id": "335c8207-9611-4eb2-bb97-dc44216df282",
   "metadata": {},
   "outputs": [],
   "source": [
    "q_5 = \"E. Coli\""
   ]
  },
  {
   "cell_type": "code",
   "execution_count": 14,
   "id": "7e3cf090-2368-44cd-abab-b6d6d31896e3",
   "metadata": {},
   "outputs": [
    {
     "name": "stdout",
     "output_type": "stream",
     "text": [
      " \n"
     ]
    }
   ],
   "source": [
    "print(q_5[2])"
   ]
  },
  {
   "cell_type": "code",
   "execution_count": 15,
   "id": "1a1bfc23-d795-4e45-9675-fe688ae19450",
   "metadata": {},
   "outputs": [],
   "source": [
    "q_6 = \"I Bove python\""
   ]
  },
  {
   "cell_type": "code",
   "execution_count": 19,
   "id": "38de6f19-a9a0-46fc-964c-94aad0340b32",
   "metadata": {},
   "outputs": [
    {
     "ename": "TypeError",
     "evalue": "'str' object does not support item assignment",
     "output_type": "error",
     "traceback": [
      "\u001b[0;31m---------------------------------------------------------------------------\u001b[0m",
      "\u001b[0;31mTypeError\u001b[0m                                 Traceback (most recent call last)",
      "Input \u001b[0;32mIn [19]\u001b[0m, in \u001b[0;36m<cell line: 1>\u001b[0;34m()\u001b[0m\n\u001b[0;32m----> 1\u001b[0m q_6[\u001b[38;5;241m2\u001b[39m] \u001b[38;5;241m=\u001b[39m \u001b[38;5;124m\"\u001b[39m\u001b[38;5;124mL\u001b[39m\u001b[38;5;124m\"\u001b[39m\n",
      "\u001b[0;31mTypeError\u001b[0m: 'str' object does not support item assignment"
     ]
    }
   ],
   "source": [
    "q_6[2] = \"L\""
   ]
  },
  {
   "cell_type": "code",
   "execution_count": 18,
   "id": "36796d3b-1edc-435d-8b30-ae34d0b5df37",
   "metadata": {},
   "outputs": [
    {
     "name": "stdout",
     "output_type": "stream",
     "text": [
      "I Bove python\n"
     ]
    }
   ],
   "source": [
    "print(q_6)"
   ]
  },
  {
   "cell_type": "code",
   "execution_count": 20,
   "id": "c7cec3dc-c655-4978-97ad-9dd2441c71d1",
   "metadata": {},
   "outputs": [],
   "source": [
    "Medication = 5"
   ]
  },
  {
   "cell_type": "code",
   "execution_count": 21,
   "id": "b50bbce8-ab3f-494a-9600-09d795889b0b",
   "metadata": {},
   "outputs": [
    {
     "name": "stdout",
     "output_type": "stream",
     "text": [
      "<class 'int'>\n"
     ]
    }
   ],
   "source": [
    "print(type(Medication))"
   ]
  },
  {
   "cell_type": "code",
   "execution_count": 22,
   "id": "f486d8dc-be0a-4572-b8a3-53c4abef6b06",
   "metadata": {},
   "outputs": [],
   "source": [
    "susanWeight = 60\n",
    "susanHeight = 1.58"
   ]
  },
  {
   "cell_type": "code",
   "execution_count": 25,
   "id": "c5003bf4-2b45-44b9-bd31-7527013b8e6b",
   "metadata": {},
   "outputs": [],
   "source": [
    "susanBMI = susanWeight / (susanHeight * susanHeight)"
   ]
  },
  {
   "cell_type": "code",
   "execution_count": 26,
   "id": "45c6b59f-f5ff-47b8-a7dd-e15a4b815e70",
   "metadata": {},
   "outputs": [
    {
     "name": "stdout",
     "output_type": "stream",
     "text": [
      "24.034609838166958\n"
     ]
    }
   ],
   "source": [
    "print(susanBMI)"
   ]
  },
  {
   "cell_type": "code",
   "execution_count": 27,
   "id": "0e5cf9d9-4940-4811-8daf-654cf1e4e740",
   "metadata": {},
   "outputs": [
    {
     "name": "stdout",
     "output_type": "stream",
     "text": [
      "Concat\n"
     ]
    }
   ],
   "source": [
    "print(\"Con\" + \"cat\")"
   ]
  },
  {
   "cell_type": "code",
   "execution_count": 28,
   "id": "a2e51b48-e26f-4126-81ab-42f67ece99de",
   "metadata": {},
   "outputs": [
    {
     "name": "stdout",
     "output_type": "stream",
     "text": [
      "73\n"
     ]
    }
   ],
   "source": [
    "print(\"7\"+\"3\")"
   ]
  },
  {
   "cell_type": "code",
   "execution_count": null,
   "id": "411a4e13-c56d-4d1b-b231-fa257426317e",
   "metadata": {},
   "outputs": [],
   "source": []
  }
 ],
 "metadata": {
  "kernelspec": {
   "display_name": "Python 3 (ipykernel)",
   "language": "python",
   "name": "python3"
  },
  "language_info": {
   "codemirror_mode": {
    "name": "ipython",
    "version": 3
   },
   "file_extension": ".py",
   "mimetype": "text/x-python",
   "name": "python",
   "nbconvert_exporter": "python",
   "pygments_lexer": "ipython3",
   "version": "3.9.13"
  }
 },
 "nbformat": 4,
 "nbformat_minor": 5
}
