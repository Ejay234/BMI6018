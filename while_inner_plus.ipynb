{
 "cells": [
  {
   "cell_type": "code",
   "execution_count": 1,
   "id": "46f07a1b-0ee4-4a05-9589-0939c0a5eecc",
   "metadata": {},
   "outputs": [],
   "source": [
    "# Ejay Aguirre\n",
    "# September 29, 2024"
   ]
  },
  {
   "cell_type": "code",
   "execution_count": 3,
   "id": "375f5640-c253-4646-8139-24fc15a25aa7",
   "metadata": {},
   "outputs": [],
   "source": [
    "# Begin Program"
   ]
  },
  {
   "cell_type": "code",
   "execution_count": 10,
   "id": "41591207-0d02-4b28-b746-af4522b5dd3a",
   "metadata": {},
   "outputs": [],
   "source": [
    "import sys\n",
    "\n",
    "def innermost(input_list):\n",
    "    # Make a new list to hold the (current) innermost list\n",
    "    current = input_list\n",
    "    \n",
    "    # While loop to reach the innermost list\n",
    "    while any(isinstance(i, list) for i in current):\n",
    "        for i in current:\n",
    "            if isinstance(i, list):\n",
    "                current = i\n",
    "                break\n",
    "    return current\n",
    "\n",
    "def add_one(input_list):\n",
    "    # Finds the intermost list using the previous funciton\n",
    "    inner_list = innermost(input_list)\n",
    "    # Creates a new list adding 1 to each value\n",
    "    new_list = list()\n",
    "    for i in inner_list:\n",
    "        new_list.append(i+1)\n",
    "        \n",
    "    return new_list"
   ]
  },
  {
   "cell_type": "code",
   "execution_count": 14,
   "id": "13051d7b-8184-46ec-a5a5-ebf0cfffd1aa",
   "metadata": {},
   "outputs": [
    {
     "name": "stdout",
     "output_type": "stream",
     "text": [
      "[9, 10]\n"
     ]
    }
   ],
   "source": [
    "print(add_one([[1,2,3,4,[5,6,7,[8,9]]]]))"
   ]
  },
  {
   "cell_type": "code",
   "execution_count": 15,
   "id": "b1f51657-bcee-469c-8240-6801ad32afaf",
   "metadata": {},
   "outputs": [],
   "source": [
    "# End Program"
   ]
  },
  {
   "cell_type": "code",
   "execution_count": null,
   "id": "1e404be6-1b0c-4299-b2a7-974c06be4b31",
   "metadata": {},
   "outputs": [],
   "source": []
  }
 ],
 "metadata": {
  "kernelspec": {
   "display_name": "Python 3 (ipykernel)",
   "language": "python",
   "name": "python3"
  },
  "language_info": {
   "codemirror_mode": {
    "name": "ipython",
    "version": 3
   },
   "file_extension": ".py",
   "mimetype": "text/x-python",
   "name": "python",
   "nbconvert_exporter": "python",
   "pygments_lexer": "ipython3",
   "version": "3.9.13"
  }
 },
 "nbformat": 4,
 "nbformat_minor": 5
}
