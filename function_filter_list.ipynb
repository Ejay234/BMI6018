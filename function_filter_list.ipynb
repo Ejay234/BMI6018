{
 "cells": [
  {
   "cell_type": "code",
   "execution_count": 1,
   "id": "af86ad94-c822-4878-a76f-c79c32576526",
   "metadata": {},
   "outputs": [],
   "source": [
    "# Ejay Aguirre\n",
    "# September 29, 2024"
   ]
  },
  {
   "cell_type": "code",
   "execution_count": 2,
   "id": "11477851-6b77-47ed-89cd-a7f2fbb67825",
   "metadata": {},
   "outputs": [],
   "source": [
    "# Begin Program"
   ]
  },
  {
   "cell_type": "code",
   "execution_count": 23,
   "id": "fdfb92a5-076a-4a08-9720-9a51bf105048",
   "metadata": {},
   "outputs": [],
   "source": [
    "def filter_list(input_list, key):\n",
    "    # Create a new list within the defined threshold\n",
    "    new_list = list()\n",
    "    # Loop through the inputted list to append the values needed depending on the set key\n",
    "    for i in input_list:\n",
    "        if i <= key:\n",
    "            new_list.append(i)\n",
    "    return new_list\n"
   ]
  },
  {
   "cell_type": "code",
   "execution_count": 24,
   "id": "a6e56164-e9fb-4e89-80b8-41ee90f632ec",
   "metadata": {},
   "outputs": [
    {
     "name": "stdout",
     "output_type": "stream",
     "text": [
      "[1, 2, 3, 4, 5, 6]\n"
     ]
    }
   ],
   "source": [
    "input_list = [1,2,3,4,5,6,7,8,9]\n",
    "print(filter_list(input_list, 6))"
   ]
  },
  {
   "cell_type": "code",
   "execution_count": null,
   "id": "9c5665c8-2704-4e50-9fea-4db6af0d804c",
   "metadata": {},
   "outputs": [],
   "source": []
  }
 ],
 "metadata": {
  "kernelspec": {
   "display_name": "Python 3 (ipykernel)",
   "language": "python",
   "name": "python3"
  },
  "language_info": {
   "codemirror_mode": {
    "name": "ipython",
    "version": 3
   },
   "file_extension": ".py",
   "mimetype": "text/x-python",
   "name": "python",
   "nbconvert_exporter": "python",
   "pygments_lexer": "ipython3",
   "version": "3.9.13"
  }
 },
 "nbformat": 4,
 "nbformat_minor": 5
}
